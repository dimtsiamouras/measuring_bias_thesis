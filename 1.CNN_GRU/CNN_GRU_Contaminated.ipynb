{
  "cells": [
    {
      "cell_type": "code",
      "execution_count": 1,
      "metadata": {
        "colab": {
          "base_uri": "https://localhost:8080/"
        },
        "id": "r-h4tdjguh5a",
        "outputId": "b14728fd-66da-4429-eafe-2585f18ee7a9"
      },
      "outputs": [
        {
          "output_type": "stream",
          "name": "stdout",
          "text": [
            "Mounted at /content/drive\n"
          ]
        }
      ],
      "source": [
        "from google.colab import drive\n",
        "drive.mount('/content/drive' , force_remount = True)"
      ]
    },
    {
      "cell_type": "markdown",
      "metadata": {
        "id": "__t5e_w8wSw4"
      },
      "source": [
        "#### Import dependencies"
      ]
    },
    {
      "cell_type": "code",
      "execution_count": 3,
      "metadata": {
        "id": "guJ-bNuq1D5k",
        "colab": {
          "base_uri": "https://localhost:8080/"
        },
        "outputId": "c06b516c-b8c1-4701-f8ab-34de1106b8ab"
      },
      "outputs": [
        {
          "output_type": "stream",
          "name": "stdout",
          "text": [
            "Requirement already satisfied: mcfly in /usr/local/lib/python3.10/dist-packages (4.0.0)\n",
            "Requirement already satisfied: numpy in /usr/local/lib/python3.10/dist-packages (from mcfly) (1.25.2)\n",
            "Requirement already satisfied: scikit-learn>=0.15.0 in /usr/local/lib/python3.10/dist-packages (from mcfly) (1.2.2)\n",
            "Requirement already satisfied: scipy>=0.11 in /usr/local/lib/python3.10/dist-packages (from mcfly) (1.11.4)\n",
            "Requirement already satisfied: tensorflow>=2.0.0 in /usr/local/lib/python3.10/dist-packages (from mcfly) (2.15.0)\n",
            "Requirement already satisfied: h5py in /usr/local/lib/python3.10/dist-packages (from mcfly) (3.9.0)\n",
            "Requirement already satisfied: joblib>=1.1.1 in /usr/local/lib/python3.10/dist-packages (from scikit-learn>=0.15.0->mcfly) (1.4.0)\n",
            "Requirement already satisfied: threadpoolctl>=2.0.0 in /usr/local/lib/python3.10/dist-packages (from scikit-learn>=0.15.0->mcfly) (3.4.0)\n",
            "Requirement already satisfied: absl-py>=1.0.0 in /usr/local/lib/python3.10/dist-packages (from tensorflow>=2.0.0->mcfly) (1.4.0)\n",
            "Requirement already satisfied: astunparse>=1.6.0 in /usr/local/lib/python3.10/dist-packages (from tensorflow>=2.0.0->mcfly) (1.6.3)\n",
            "Requirement already satisfied: flatbuffers>=23.5.26 in /usr/local/lib/python3.10/dist-packages (from tensorflow>=2.0.0->mcfly) (24.3.25)\n",
            "Requirement already satisfied: gast!=0.5.0,!=0.5.1,!=0.5.2,>=0.2.1 in /usr/local/lib/python3.10/dist-packages (from tensorflow>=2.0.0->mcfly) (0.5.4)\n",
            "Requirement already satisfied: google-pasta>=0.1.1 in /usr/local/lib/python3.10/dist-packages (from tensorflow>=2.0.0->mcfly) (0.2.0)\n",
            "Requirement already satisfied: libclang>=13.0.0 in /usr/local/lib/python3.10/dist-packages (from tensorflow>=2.0.0->mcfly) (18.1.1)\n",
            "Requirement already satisfied: ml-dtypes~=0.2.0 in /usr/local/lib/python3.10/dist-packages (from tensorflow>=2.0.0->mcfly) (0.2.0)\n",
            "Requirement already satisfied: opt-einsum>=2.3.2 in /usr/local/lib/python3.10/dist-packages (from tensorflow>=2.0.0->mcfly) (3.3.0)\n",
            "Requirement already satisfied: packaging in /usr/local/lib/python3.10/dist-packages (from tensorflow>=2.0.0->mcfly) (24.0)\n",
            "Requirement already satisfied: protobuf!=4.21.0,!=4.21.1,!=4.21.2,!=4.21.3,!=4.21.4,!=4.21.5,<5.0.0dev,>=3.20.3 in /usr/local/lib/python3.10/dist-packages (from tensorflow>=2.0.0->mcfly) (3.20.3)\n",
            "Requirement already satisfied: setuptools in /usr/local/lib/python3.10/dist-packages (from tensorflow>=2.0.0->mcfly) (67.7.2)\n",
            "Requirement already satisfied: six>=1.12.0 in /usr/local/lib/python3.10/dist-packages (from tensorflow>=2.0.0->mcfly) (1.16.0)\n",
            "Requirement already satisfied: termcolor>=1.1.0 in /usr/local/lib/python3.10/dist-packages (from tensorflow>=2.0.0->mcfly) (2.4.0)\n",
            "Requirement already satisfied: typing-extensions>=3.6.6 in /usr/local/lib/python3.10/dist-packages (from tensorflow>=2.0.0->mcfly) (4.11.0)\n",
            "Requirement already satisfied: wrapt<1.15,>=1.11.0 in /usr/local/lib/python3.10/dist-packages (from tensorflow>=2.0.0->mcfly) (1.14.1)\n",
            "Requirement already satisfied: tensorflow-io-gcs-filesystem>=0.23.1 in /usr/local/lib/python3.10/dist-packages (from tensorflow>=2.0.0->mcfly) (0.36.0)\n",
            "Requirement already satisfied: grpcio<2.0,>=1.24.3 in /usr/local/lib/python3.10/dist-packages (from tensorflow>=2.0.0->mcfly) (1.62.2)\n",
            "Requirement already satisfied: tensorboard<2.16,>=2.15 in /usr/local/lib/python3.10/dist-packages (from tensorflow>=2.0.0->mcfly) (2.15.2)\n",
            "Requirement already satisfied: tensorflow-estimator<2.16,>=2.15.0 in /usr/local/lib/python3.10/dist-packages (from tensorflow>=2.0.0->mcfly) (2.15.0)\n",
            "Requirement already satisfied: keras<2.16,>=2.15.0 in /usr/local/lib/python3.10/dist-packages (from tensorflow>=2.0.0->mcfly) (2.15.0)\n",
            "Requirement already satisfied: wheel<1.0,>=0.23.0 in /usr/local/lib/python3.10/dist-packages (from astunparse>=1.6.0->tensorflow>=2.0.0->mcfly) (0.43.0)\n",
            "Requirement already satisfied: google-auth<3,>=1.6.3 in /usr/local/lib/python3.10/dist-packages (from tensorboard<2.16,>=2.15->tensorflow>=2.0.0->mcfly) (2.27.0)\n",
            "Requirement already satisfied: google-auth-oauthlib<2,>=0.5 in /usr/local/lib/python3.10/dist-packages (from tensorboard<2.16,>=2.15->tensorflow>=2.0.0->mcfly) (1.2.0)\n",
            "Requirement already satisfied: markdown>=2.6.8 in /usr/local/lib/python3.10/dist-packages (from tensorboard<2.16,>=2.15->tensorflow>=2.0.0->mcfly) (3.6)\n",
            "Requirement already satisfied: requests<3,>=2.21.0 in /usr/local/lib/python3.10/dist-packages (from tensorboard<2.16,>=2.15->tensorflow>=2.0.0->mcfly) (2.31.0)\n",
            "Requirement already satisfied: tensorboard-data-server<0.8.0,>=0.7.0 in /usr/local/lib/python3.10/dist-packages (from tensorboard<2.16,>=2.15->tensorflow>=2.0.0->mcfly) (0.7.2)\n",
            "Requirement already satisfied: werkzeug>=1.0.1 in /usr/local/lib/python3.10/dist-packages (from tensorboard<2.16,>=2.15->tensorflow>=2.0.0->mcfly) (3.0.2)\n",
            "Requirement already satisfied: cachetools<6.0,>=2.0.0 in /usr/local/lib/python3.10/dist-packages (from google-auth<3,>=1.6.3->tensorboard<2.16,>=2.15->tensorflow>=2.0.0->mcfly) (5.3.3)\n",
            "Requirement already satisfied: pyasn1-modules>=0.2.1 in /usr/local/lib/python3.10/dist-packages (from google-auth<3,>=1.6.3->tensorboard<2.16,>=2.15->tensorflow>=2.0.0->mcfly) (0.4.0)\n",
            "Requirement already satisfied: rsa<5,>=3.1.4 in /usr/local/lib/python3.10/dist-packages (from google-auth<3,>=1.6.3->tensorboard<2.16,>=2.15->tensorflow>=2.0.0->mcfly) (4.9)\n",
            "Requirement already satisfied: requests-oauthlib>=0.7.0 in /usr/local/lib/python3.10/dist-packages (from google-auth-oauthlib<2,>=0.5->tensorboard<2.16,>=2.15->tensorflow>=2.0.0->mcfly) (1.3.1)\n",
            "Requirement already satisfied: charset-normalizer<4,>=2 in /usr/local/lib/python3.10/dist-packages (from requests<3,>=2.21.0->tensorboard<2.16,>=2.15->tensorflow>=2.0.0->mcfly) (3.3.2)\n",
            "Requirement already satisfied: idna<4,>=2.5 in /usr/local/lib/python3.10/dist-packages (from requests<3,>=2.21.0->tensorboard<2.16,>=2.15->tensorflow>=2.0.0->mcfly) (3.7)\n",
            "Requirement already satisfied: urllib3<3,>=1.21.1 in /usr/local/lib/python3.10/dist-packages (from requests<3,>=2.21.0->tensorboard<2.16,>=2.15->tensorflow>=2.0.0->mcfly) (2.0.7)\n",
            "Requirement already satisfied: certifi>=2017.4.17 in /usr/local/lib/python3.10/dist-packages (from requests<3,>=2.21.0->tensorboard<2.16,>=2.15->tensorflow>=2.0.0->mcfly) (2024.2.2)\n",
            "Requirement already satisfied: MarkupSafe>=2.1.1 in /usr/local/lib/python3.10/dist-packages (from werkzeug>=1.0.1->tensorboard<2.16,>=2.15->tensorflow>=2.0.0->mcfly) (2.1.5)\n",
            "Requirement already satisfied: pyasn1<0.7.0,>=0.4.6 in /usr/local/lib/python3.10/dist-packages (from pyasn1-modules>=0.2.1->google-auth<3,>=1.6.3->tensorboard<2.16,>=2.15->tensorflow>=2.0.0->mcfly) (0.6.0)\n",
            "Requirement already satisfied: oauthlib>=3.0.0 in /usr/local/lib/python3.10/dist-packages (from requests-oauthlib>=0.7.0->google-auth-oauthlib<2,>=0.5->tensorboard<2.16,>=2.15->tensorflow>=2.0.0->mcfly) (3.2.2)\n"
          ]
        }
      ],
      "source": [
        "pip install mcfly"
      ]
    },
    {
      "cell_type": "code",
      "execution_count": 4,
      "metadata": {
        "id": "rPlhj5JQvR6d"
      },
      "outputs": [],
      "source": [
        "import os\n",
        "import statistics\n",
        "import csv\n",
        "import itertools\n",
        "import tensorflow as tf\n",
        "import keras\n",
        "from tqdm import tqdm_notebook as tqdm\n",
        "from sklearn.model_selection import train_test_split\n",
        "from sklearn.metrics import classification_report, confusion_matrix\n",
        "from sklearn.preprocessing import StandardScaler\n",
        "from keras.models import Sequential\n",
        "from keras.layers import *\n",
        "from keras.utils import to_categorical\n",
        "from keras.optimizers import Adam\n",
        "from tensorflow.keras.utils import plot_model\n",
        "import mcfly\n",
        "import os\n",
        "import statistics\n",
        "import csv\n",
        "import itertools\n",
        "import tensorflow as tf\n",
        "import keras\n",
        "import pandas as pd\n",
        "import numpy as np\n",
        "import datetime as dt\n",
        "import matplotlib.pyplot as plt\n",
        "import seaborn as sn\n",
        "from numpy import mean, std"
      ]
    },
    {
      "cell_type": "markdown",
      "metadata": {
        "id": "OQL9bLZP2JFX"
      },
      "source": [
        "### PAMAP2"
      ]
    },
    {
      "cell_type": "code",
      "execution_count": 5,
      "metadata": {
        "colab": {
          "base_uri": "https://localhost:8080/"
        },
        "id": "NX4uC-2ZvTMk",
        "outputId": "d1d338d6-e822-49a4-c2c3-7eced7015812"
      },
      "outputs": [
        {
          "output_type": "stream",
          "name": "stdout",
          "text": [
            "/content/drive/MyDrive/PAMAP2_Dataset\n"
          ]
        }
      ],
      "source": [
        "cd \"/content/drive/MyDrive/PAMAP2_Dataset\""
      ]
    },
    {
      "cell_type": "code",
      "execution_count": 6,
      "metadata": {
        "id": "MH1Zbeo6vTZK"
      },
      "outputs": [],
      "source": [
        "df = pd.read_pickle('pamap2.df')"
      ]
    },
    {
      "cell_type": "markdown",
      "metadata": {
        "id": "mCoWzJ7Dghuf"
      },
      "source": [
        "#### Create sliding windows from samples"
      ]
    },
    {
      "cell_type": "code",
      "execution_count": 7,
      "metadata": {
        "colab": {
          "base_uri": "https://localhost:8080/",
          "height": 101,
          "referenced_widgets": [
            "57a2fcf9afc145ce9802d2f90dd9596e",
            "ffbd3beb7e3841c687dd57e184006646",
            "9fd6705e2663476aba5138073434c75f",
            "fc59a7172060468b9eb7824bc87d9407",
            "1e8b6c9699174b7fb191960c01003d04",
            "df40553e236a428b859140a386ef2502",
            "ccfb8eea974e40848792bd6bd3232e7a",
            "83ec4a6a762b4e79aeab8b8ee9ed7836",
            "ae7f834d2265444c92cf13b9b6af8b3c",
            "9cdbeafa2b474959a0dc31955af746be",
            "edafe48c4ca34f65a1820fd81586af71"
          ]
        },
        "id": "t1dhCyW1vTfN",
        "outputId": "35299ce3-b77f-402a-dc25-b728422657be"
      },
      "outputs": [
        {
          "output_type": "stream",
          "name": "stderr",
          "text": [
            "<ipython-input-7-278bc114e726>:4: TqdmDeprecationWarning: This function will be removed in tqdm==5.0.0\n",
            "Please use `tqdm.notebook.tqdm` instead of `tqdm.tqdm_notebook`\n",
            "  for i in tqdm(range(0, len(df)-window_size, stride)):\n"
          ]
        },
        {
          "output_type": "display_data",
          "data": {
            "text/plain": [
              "  0%|          | 0/38726 [00:00<?, ?it/s]"
            ],
            "application/vnd.jupyter.widget-view+json": {
              "version_major": 2,
              "version_minor": 0,
              "model_id": "57a2fcf9afc145ce9802d2f90dd9596e"
            }
          },
          "metadata": {}
        }
      ],
      "source": [
        "window_size = 200\n",
        "stride = 50\n",
        "frames = []\n",
        "for i in tqdm(range(0, len(df)-window_size, stride)):\n",
        "    window = df.iloc[i:i+window_size]\n",
        "    if window['activity_id'].nunique() == 1:\n",
        "      frames.append(window)"
      ]
    },
    {
      "cell_type": "code",
      "execution_count": 8,
      "metadata": {
        "colab": {
          "base_uri": "https://localhost:8080/",
          "height": 101,
          "referenced_widgets": [
            "1a7bc380f58544d89962ae1d654a29f3",
            "e21356795934461f9f6ee0d05e2bd7ff",
            "8fc9263d7076486da3665c31d767a9c7",
            "601c8784746a404a94ba25f0c7bfa540",
            "4c9321de2f4b4f2ea69d6a50b698fa39",
            "0e9f178d78d1480f81bf39480567018d",
            "0784e8e707eb4ee39e23829fb173817d",
            "90d61eae219543eab7391df15c8d72bd",
            "c45b89cfbbe24b88aa9d716fb002f321",
            "5e9e5695ffab4438941a7999a36e72df",
            "2caadc95902b44f79359ac853b17919c"
          ]
        },
        "id": "RKVnWe8BvThi",
        "outputId": "55e626b6-dfa4-4991-d9be-16212d1fad75"
      },
      "outputs": [
        {
          "output_type": "stream",
          "name": "stderr",
          "text": [
            "<ipython-input-8-29c4dda3d82c>:7: TqdmDeprecationWarning: This function will be removed in tqdm==5.0.0\n",
            "Please use `tqdm.notebook.tqdm` instead of `tqdm.tqdm_notebook`\n",
            "  for frame in tqdm(frames):\n"
          ]
        },
        {
          "output_type": "display_data",
          "data": {
            "text/plain": [
              "  0%|          | 0/38310 [00:00<?, ?it/s]"
            ],
            "application/vnd.jupyter.widget-view+json": {
              "version_major": 2,
              "version_minor": 0,
              "model_id": "1a7bc380f58544d89962ae1d654a29f3"
            }
          },
          "metadata": {}
        }
      ],
      "source": [
        "X_list = []\n",
        "y_list = []\n",
        "relevant_columns = [col for col in frames[0].columns if col not in ['subject_id', 'activity_id', 'time_ste[]']]\n",
        "\n",
        "#replace label with activity\n",
        "for frame in tqdm(frames):\n",
        "    X_list.append(frame[relevant_columns].values)\n",
        "    y_list.append(frame.iloc[0]['activity_id'])"
      ]
    },
    {
      "cell_type": "code",
      "execution_count": 9,
      "metadata": {
        "id": "o3qqON8MvTjW"
      },
      "outputs": [],
      "source": [
        "X = np.array(X_list)\n",
        "y = np.array(to_categorical(y_list))"
      ]
    },
    {
      "cell_type": "code",
      "execution_count": 10,
      "metadata": {
        "colab": {
          "base_uri": "https://localhost:8080/"
        },
        "id": "U0zHrDEeRljo",
        "outputId": "16bffaf2-a269-497d-b488-d1d696788e49"
      },
      "outputs": [
        {
          "output_type": "stream",
          "name": "stdout",
          "text": [
            "X_train:  (22986, 200, 21)\n",
            "X_val:  (7662, 200, 21)\n",
            "X_test:  (7662, 200, 21)\n",
            "Y_train:  (22986, 25)\n",
            "Y_val:  (7662, 25)\n",
            "Y_test:  (7662, 25)\n"
          ]
        }
      ],
      "source": [
        "X_train, X_valtest, y_train, y_valtest = train_test_split(X, y, test_size=0.4, random_state=42)\n",
        "X_val, X_test, y_val, y_test = train_test_split(X_valtest, y_valtest, test_size=0.5, random_state=42)\n",
        "\n",
        "print(\"X_train: \",X_train.shape)\n",
        "print(\"X_val: \",X_val.shape)\n",
        "print(\"X_test: \",X_test.shape)\n",
        "\n",
        "print(\"Y_train: \",y_train.shape)\n",
        "print(\"Y_val: \",y_val.shape)\n",
        "print(\"Y_test: \",y_test.shape)"
      ]
    },
    {
      "cell_type": "code",
      "execution_count": 11,
      "metadata": {
        "id": "fWqm0n74RnBG"
      },
      "outputs": [],
      "source": [
        "#fit scaler on train\n",
        "scaler = StandardScaler()\n",
        "train_reshaped = X_train.reshape(-1, X_train.shape[-1])\n",
        "X_train_scaled = scaler.fit_transform(train_reshaped)\n",
        "X_train = X_train_scaled.reshape(X_train.shape)\n",
        "\n",
        "val_reshaped = X_val.reshape(-1, X_val.shape[-1])\n",
        "X_val_scaled = scaler.transform(val_reshaped)\n",
        "X_val = X_val_scaled.reshape(X_val.shape)\n",
        "\n",
        "test_reshaped = X_test.reshape(-1, X_test.shape[-1])\n",
        "X_test_scaled = scaler.transform(test_reshaped)\n",
        "X_test = X_test_scaled.reshape(X_test.shape)"
      ]
    },
    {
      "cell_type": "code",
      "execution_count": 12,
      "metadata": {
        "id": "HW5Pe2IMRpCj"
      },
      "outputs": [],
      "source": [
        "n_steps, n_length,n_features = 4,50,21\n",
        "trainX = X_train.reshape((X_train.shape[0], n_steps, n_length, n_features))\n",
        "valX = X_val.reshape((X_val.shape[0], n_steps, n_length, n_features))\n",
        "testX = X_test.reshape((X_test.shape[0], n_steps, n_length, n_features))"
      ]
    },
    {
      "cell_type": "code",
      "execution_count": 13,
      "metadata": {
        "colab": {
          "base_uri": "https://localhost:8080/"
        },
        "id": "JYQLAbTr4ZWz",
        "outputId": "f38e6291-ea67-4176-c3de-b269f01d1998"
      },
      "outputs": [
        {
          "output_type": "stream",
          "name": "stdout",
          "text": [
            "Average Jensen-Shannon divergence: 0.3867837427756243\n"
          ]
        }
      ],
      "source": [
        "from scipy.stats import entropy\n",
        "\n",
        "js_divergences = np.zeros(trainX.shape[1])\n",
        "for i in range(trainX.shape[1]):\n",
        "    # Compute histograms with the same bins for both X_train and X_test\n",
        "    bins = max(len(np.unique(trainX[:, i])), len(np.unique(testX[:, i])))\n",
        "    p, _ = np.histogram(trainX[:, i], bins=bins, density=True)\n",
        "    q, _ = np.histogram(testX[:, i], bins=bins, density=True)\n",
        "    m = 0.5 * (p + q)\n",
        "    js_divergences[i] = 0.5 * (entropy(p, m) + entropy(q, m))\n",
        "\n",
        "avg_js_divergence = np.mean(js_divergences)\n",
        "print(\"Average Jensen-Shannon divergence:\", avg_js_divergence)"
      ]
    },
    {
      "cell_type": "markdown",
      "metadata": {
        "id": "fl_O9W0F1DT9"
      },
      "source": [
        "### MHEALTH Dataset"
      ]
    },
    {
      "cell_type": "code",
      "execution_count": 22,
      "metadata": {
        "colab": {
          "base_uri": "https://localhost:8080/"
        },
        "id": "IfX6AUSg1-to",
        "outputId": "1f44de04-8629-4fb1-d70c-2aba056f0ac7"
      },
      "outputs": [
        {
          "output_type": "stream",
          "name": "stdout",
          "text": [
            "/content/drive/MyDrive/MHEALTHDATASET\n"
          ]
        }
      ],
      "source": [
        "cd \"/content/drive/MyDrive/MHEALTHDATASET/\""
      ]
    },
    {
      "cell_type": "code",
      "execution_count": 55,
      "metadata": {
        "id": "huMZhH_41Cw3"
      },
      "outputs": [],
      "source": [
        "df_mhealth = pd.read_pickle('mhealth_cnn.pkl')"
      ]
    },
    {
      "cell_type": "markdown",
      "metadata": {
        "id": "UmEdOFinopDn"
      },
      "source": [
        "#### sliding windows"
      ]
    },
    {
      "cell_type": "code",
      "execution_count": 56,
      "metadata": {
        "colab": {
          "base_uri": "https://localhost:8080/",
          "height": 101,
          "referenced_widgets": [
            "dce6fdfd362b4a32bef0565487b460df",
            "72d4d0dd6ee8432d81016ffe80919a1b",
            "81cc9a9906b34d7fb3177eac45447d81",
            "0006963031474ab996f729410c8e964b",
            "ca963c8e7ad343bfa6d6c12dc4dcf998",
            "2cd404a2c1df48878f04e625ca224661",
            "23fe35eddec8489a94468ab0e614ca84",
            "ecf08d857c1840b88e95d970df4f127a",
            "5a08e7396660435ebf71ddd0dc852973",
            "10b6f1a0ab1b4e9c88ded576942e4f70",
            "f306567b847342e7821ef2401c2948ad"
          ]
        },
        "id": "L86Mv4CZooty",
        "outputId": "b4fee660-8249-4459-c193-093c2ff69225"
      },
      "outputs": [
        {
          "output_type": "stream",
          "name": "stderr",
          "text": [
            "<ipython-input-56-285c3bb12267>:5: TqdmDeprecationWarning: This function will be removed in tqdm==5.0.0\n",
            "Please use `tqdm.notebook.tqdm` instead of `tqdm.tqdm_notebook`\n",
            "  for i in tqdm(range(0, len(df)-window_size, stride)):\n"
          ]
        },
        {
          "output_type": "display_data",
          "data": {
            "text/plain": [
              "  0%|          | 0/24311 [00:00<?, ?it/s]"
            ],
            "application/vnd.jupyter.widget-view+json": {
              "version_major": 2,
              "version_minor": 0,
              "model_id": "dce6fdfd362b4a32bef0565487b460df"
            }
          },
          "metadata": {}
        }
      ],
      "source": [
        "df = df_mhealth\n",
        "window_size = 200\n",
        "stride = 50\n",
        "frames = []\n",
        "for i in tqdm(range(0, len(df)-window_size, stride)):\n",
        "    window = df.iloc[i:i+window_size]\n",
        "    if window['activity'].nunique() == 1:\n",
        "      frames.append(window)"
      ]
    },
    {
      "cell_type": "code",
      "execution_count": 57,
      "metadata": {
        "colab": {
          "base_uri": "https://localhost:8080/",
          "height": 101,
          "referenced_widgets": [
            "64ba65ce55d9499d8d1192e0cb4c02ce",
            "5f6aca942ae54533bf3e032ff38f7dd9",
            "02ddf5f1573e4d37a541bc16aa6ef217",
            "df20403d21a244839d5e17eb6ae8ff1c",
            "8291ec1de5804e99b36113f3440d8f0d",
            "2a798a8ef69743769287abad84f3bcb4",
            "6939794e071f470793876020c734e15a",
            "98602be6b896495cae05a6bbc30b89af",
            "2c294f82fc2c4c4696e65254c1fb6be5",
            "f989522c721f41629493cd8fdbdfd496",
            "c822bce57959455ba74e09c845daa1e7"
          ]
        },
        "id": "V8PHOMyLoor6",
        "outputId": "da0e671d-e37e-431a-e1fc-638c79c31dbf"
      },
      "outputs": [
        {
          "output_type": "stream",
          "name": "stderr",
          "text": [
            "<ipython-input-57-3f1e8c77d07e>:7: TqdmDeprecationWarning: This function will be removed in tqdm==5.0.0\n",
            "Please use `tqdm.notebook.tqdm` instead of `tqdm.tqdm_notebook`\n",
            "  for frame in tqdm(frames):\n"
          ]
        },
        {
          "output_type": "display_data",
          "data": {
            "text/plain": [
              "  0%|          | 0/23310 [00:00<?, ?it/s]"
            ],
            "application/vnd.jupyter.widget-view+json": {
              "version_major": 2,
              "version_minor": 0,
              "model_id": "64ba65ce55d9499d8d1192e0cb4c02ce"
            }
          },
          "metadata": {}
        }
      ],
      "source": [
        "X_list = []\n",
        "y_list = []\n",
        "#relevant_columns = [col for col in frames.columns if col not in ['subject_id', 'activity_id']]\n",
        "relevant_columns = [col for col in frames[0].columns if col not in ['subject', 'activity', 'time_ste[]']]\n",
        "\n",
        "#for each frame replace label with activity\n",
        "for frame in tqdm(frames):\n",
        "    X_list.append(frame[relevant_columns].values)\n",
        "    y_list.append(frame.iloc[0]['activity'])"
      ]
    },
    {
      "cell_type": "code",
      "execution_count": 58,
      "metadata": {
        "id": "c-lSuSjWooWL"
      },
      "outputs": [],
      "source": [
        "X = np.array(X_list)\n",
        "y = np.array(to_categorical(y_list))"
      ]
    },
    {
      "cell_type": "markdown",
      "metadata": {
        "id": "aYfmqZ7AB1oE"
      },
      "source": [
        "#### contaminated split"
      ]
    },
    {
      "cell_type": "code",
      "execution_count": 59,
      "metadata": {
        "id": "lUjLoWvI9ORX"
      },
      "outputs": [],
      "source": [
        "X_train, X_valtest, y_train, y_valtest = train_test_split(X, y, test_size=0.6, random_state=429)\n",
        "X_val, X_test, y_val, y_test = train_test_split(X_valtest, y_valtest, test_size=0.5, random_state=429)"
      ]
    },
    {
      "cell_type": "code",
      "execution_count": 60,
      "metadata": {
        "id": "q1pJibXbwj0L"
      },
      "outputs": [],
      "source": [
        "#fit scaler on train\n",
        "scaler = StandardScaler()\n",
        "train_reshaped = X_train.reshape(-1, X_train.shape[-1])\n",
        "X_train_scaled = scaler.fit_transform(train_reshaped)\n",
        "X_train = X_train_scaled.reshape(X_train.shape)"
      ]
    },
    {
      "cell_type": "code",
      "execution_count": 61,
      "metadata": {
        "id": "8ZBNH5aLyjzM"
      },
      "outputs": [],
      "source": [
        "#transform test, val based on train scaler\n",
        "val_reshaped = X_val.reshape(-1, X_val.shape[-1])\n",
        "X_val_scaled = scaler.transform(val_reshaped)\n",
        "X_val = X_val_scaled.reshape(X_val.shape)\n",
        "\n",
        "test_reshaped = X_test.reshape(-1, X_test.shape[-1])\n",
        "X_test_scaled = scaler.transform(test_reshaped)\n",
        "X_test = X_test_scaled.reshape(X_test.shape)"
      ]
    },
    {
      "cell_type": "code",
      "execution_count": 62,
      "metadata": {
        "colab": {
          "base_uri": "https://localhost:8080/"
        },
        "id": "Tul81RsIeWub",
        "outputId": "404e59df-9937-425a-f149-44719bff9e1e"
      },
      "outputs": [
        {
          "output_type": "stream",
          "name": "stdout",
          "text": [
            "X_train:  (9324, 200, 23)\n",
            "X_val:  (6993, 200, 23)\n",
            "X_test:  (6993, 200, 23)\n",
            "Y_train:  (9324, 13)\n",
            "Y_val:  (6993, 13)\n",
            "Y_test:  (6993, 13)\n"
          ]
        }
      ],
      "source": [
        "print(\"X_train: \",X_train.shape)\n",
        "print(\"X_val: \",X_val.shape)\n",
        "print(\"X_test: \",X_test.shape)\n",
        "\n",
        "print(\"Y_train: \",y_train.shape)\n",
        "print(\"Y_val: \",y_val.shape)\n",
        "print(\"Y_test: \",y_test.shape)"
      ]
    },
    {
      "cell_type": "code",
      "execution_count": 63,
      "metadata": {
        "id": "lBzoZaYW9OP3"
      },
      "outputs": [],
      "source": [
        "n_steps, n_length,n_features = 4,50,23\n",
        "trainX = X_train.reshape((X_train.shape[0], n_steps, n_length, n_features))\n",
        "valX = X_val.reshape((X_val.shape[0], n_steps, n_length, n_features))\n",
        "testX = X_test.reshape((X_test.shape[0], n_steps, n_length, n_features))"
      ]
    },
    {
      "cell_type": "code",
      "execution_count": 49,
      "metadata": {
        "colab": {
          "base_uri": "https://localhost:8080/"
        },
        "id": "_WwvFSPD9OLA",
        "outputId": "ba09128e-7081-495b-94f8-a21fbb1bc4f9"
      },
      "outputs": [
        {
          "output_type": "stream",
          "name": "stdout",
          "text": [
            "Epoch 1/8\n",
            "73/73 [==============================] - 23s 248ms/step - loss: 1.1709 - acc: 0.7196 - val_loss: 0.7893 - val_acc: 0.7522\n",
            "Epoch 2/8\n",
            "73/73 [==============================] - 15s 207ms/step - loss: 0.5677 - acc: 0.7917 - val_loss: 0.3791 - val_acc: 0.8443\n",
            "Epoch 3/8\n",
            "73/73 [==============================] - 29s 407ms/step - loss: 0.3364 - acc: 0.8582 - val_loss: 0.2962 - val_acc: 0.8832\n",
            "Epoch 4/8\n",
            "73/73 [==============================] - 28s 381ms/step - loss: 0.2665 - acc: 0.8932 - val_loss: 0.2350 - val_acc: 0.9048\n",
            "Epoch 5/8\n",
            "73/73 [==============================] - 21s 286ms/step - loss: 0.2390 - acc: 0.9022 - val_loss: 0.2364 - val_acc: 0.9033\n",
            "Epoch 6/8\n",
            "73/73 [==============================] - 15s 211ms/step - loss: 0.2189 - acc: 0.9084 - val_loss: 0.2204 - val_acc: 0.9151\n",
            "Epoch 7/8\n",
            "73/73 [==============================] - 15s 211ms/step - loss: 0.1977 - acc: 0.9217 - val_loss: 0.1927 - val_acc: 0.9228\n",
            "Epoch 8/8\n",
            "73/73 [==============================] - 15s 207ms/step - loss: 0.1766 - acc: 0.9284 - val_loss: 0.1826 - val_acc: 0.9269\n"
          ]
        }
      ],
      "source": [
        "history = model.fit(trainX,y_train, epochs=8, validation_data=(valX, y_val), verbose=1 , batch_size  = 128 )"
      ]
    },
    {
      "cell_type": "code",
      "execution_count": null,
      "metadata": {
        "colab": {
          "base_uri": "https://localhost:8080/"
        },
        "id": "BYBpPsOI5D_Q",
        "outputId": "11c0d06e-0bdf-45fb-e516-72d88b282cc0"
      },
      "outputs": [
        {
          "name": "stdout",
          "output_type": "stream",
          "text": [
            "Average Jensen-Shannon divergence: 0.2639160243091124\n"
          ]
        }
      ],
      "source": [
        "from scipy.stats import entropy\n",
        "import numpy as n\n",
        "\n",
        "# Compute Jensen-Shannon divergence for each feature\n",
        "js_divergences = np.zeros(trainX.shape[1])\n",
        "for i in range(trainX.shape[1]):\n",
        "    # Compute histograms with the same bins for both X_train and X_test\n",
        "    bins = max(len(np.unique(trainX[:, i])), len(np.unique(testX[:, i])))\n",
        "    p, _ = np.histogram(trainX[:, i], bins=bins, density=True)\n",
        "    q, _ = np.histogram(testX[:, i], bins=bins, density=True)\n",
        "    m = 0.5 * (p + q)\n",
        "    js_divergences[i] = 0.5 * (entropy(p, m) + entropy(q, m))\n",
        "\n",
        "avg_js_divergence = np.mean(js_divergences)\n",
        "print(\"Average Jensen-Shannon divergence:\", avg_js_divergence)"
      ]
    },
    {
      "cell_type": "markdown",
      "metadata": {
        "id": "QFafStAH7jpJ"
      },
      "source": [
        "### ML model"
      ]
    },
    {
      "cell_type": "code",
      "execution_count": 47,
      "metadata": {
        "id": "vDykDcpcvQoB"
      },
      "outputs": [],
      "source": [
        "model = Sequential()\n",
        "model.add(TimeDistributed(Conv1D(filters=96, kernel_size=3, activation='relu'), input_shape=(None,n_length,n_features)))\n",
        "model.add(TimeDistributed(MaxPooling1D(pool_size=2)))\n",
        "model.add(TimeDistributed(Conv1D(filters=128, kernel_size=3, activation='relu')))\n",
        "model.add(TimeDistributed(MaxPooling1D(pool_size=2)))\n",
        "model.add(TimeDistributed(Dropout(0.06)))\n",
        "model.add(TimeDistributed(Flatten()))\n",
        "model.add(LSTM(64 , return_sequences= True ))\n",
        "model.add(LSTM(64))\n",
        "model.add(Dropout(0.1))\n",
        "model.add(Dense(y_train.shape[1], activation = 'softmax'))\n"
      ]
    },
    {
      "cell_type": "code",
      "execution_count": null,
      "metadata": {
        "id": "6nBfTC6c7wVj"
      },
      "outputs": [],
      "source": [
        "plot_model(model, to_file='model1_plot.png', show_shapes=True,rankdir = 'TB',expand_nested = False,  show_layer_names=False, show_dtype =False)"
      ]
    },
    {
      "cell_type": "code",
      "execution_count": 48,
      "metadata": {
        "id": "5j7Y8gmK7wSb"
      },
      "outputs": [],
      "source": [
        "model.compile(Adam(),\n",
        "              loss=tf.keras.losses.categorical_crossentropy,\n",
        "              metrics=['acc'])"
      ]
    },
    {
      "cell_type": "code",
      "source": [
        "history = model.fit(trainX,y_train, epochs=8, validation_data=(valX, y_val), verbose=1, batch_size=128)"
      ],
      "metadata": {
        "id": "RKNC_LISb6HK"
      },
      "execution_count": null,
      "outputs": []
    },
    {
      "cell_type": "code",
      "execution_count": null,
      "metadata": {
        "id": "WCWoFvYhuWyK"
      },
      "outputs": [],
      "source": [
        "model.save(\"cnn_contaminated.h5\")"
      ]
    },
    {
      "cell_type": "markdown",
      "metadata": {
        "id": "eu9kbPQUnwt1"
      },
      "source": [
        "### predict on test"
      ]
    },
    {
      "cell_type": "code",
      "execution_count": 51,
      "metadata": {
        "id": "C4ilJ3emuXVm"
      },
      "outputs": [],
      "source": [
        "loaded_model = tf.keras.models.load_model(\"cnn_contaminated.h5\")"
      ]
    },
    {
      "cell_type": "code",
      "execution_count": 52,
      "metadata": {
        "id": "UQuyu3vY7wPI",
        "colab": {
          "base_uri": "https://localhost:8080/"
        },
        "outputId": "bbcb56d1-d6e3-43e0-dc59-14d1cf003681"
      },
      "outputs": [
        {
          "output_type": "stream",
          "name": "stdout",
          "text": [
            "219/219 [==============================] - 7s 27ms/step\n"
          ]
        }
      ],
      "source": [
        "lstm_y_test_pred = loaded_model.predict(testX)\n",
        "y_test_argmax = y_test.argmax(axis=1)\n",
        "y_test_pred_argmax = lstm_y_test_pred.argmax(axis=1)\n",
        "og_test = np.argmax(y_test, axis=1)"
      ]
    },
    {
      "cell_type": "code",
      "execution_count": 53,
      "metadata": {
        "id": "e_XIlzau7wLr",
        "colab": {
          "base_uri": "https://localhost:8080/"
        },
        "outputId": "112c04db-2125-4082-fd5c-a08ac633e761"
      },
      "outputs": [
        {
          "output_type": "stream",
          "name": "stdout",
          "text": [
            "Smartphone Results with CNN-GRU for Test Set\n",
            "\n",
            "              precision    recall  f1-score   support\n",
            "\n",
            "           0     0.9199    0.9819    0.9499      4794\n",
            "           1     0.9699    0.7031    0.8152       229\n",
            "           2     0.9136    0.7220    0.8065       205\n",
            "           3     1.0000    0.7468    0.8550       233\n",
            "           4     0.9693    0.8876    0.9267       178\n",
            "           5     0.9112    0.8324    0.8701       185\n",
            "           6     0.9530    0.8554    0.9016       166\n",
            "           7     0.9273    0.8361    0.8793       183\n",
            "           8     0.9940    0.7661    0.8653       218\n",
            "           9     0.9239    0.9189    0.9214       185\n",
            "          10     1.0000    0.8407    0.9134       182\n",
            "          11     0.9412    0.8649    0.9014       185\n",
            "          12     0.7358    0.7800    0.7573        50\n",
            "\n",
            "    accuracy                         0.9275      6993\n",
            "   macro avg     0.9353    0.8258    0.8741      6993\n",
            "weighted avg     0.9298    0.9275    0.9254      6993\n",
            "\n"
          ]
        }
      ],
      "source": [
        "print(\"Smartphone Results with CNN-GRU for Test Set\\n\\n\" + classification_report(y_test_pred_argmax,og_test , digits= 4))"
      ]
    }
  ],
  "metadata": {
    "colab": {
      "collapsed_sections": [
        "__t5e_w8wSw4",
        "OQL9bLZP2JFX",
        "fl_O9W0F1DT9",
        "QFafStAH7jpJ",
        "eu9kbPQUnwt1"
      ],
      "provenance": []
    },
    "kernelspec": {
      "display_name": "Python 3",
      "name": "python3"
    },
    "language_info": {
      "name": "python"
    },
    "widgets": {
      "application/vnd.jupyter.widget-state+json": {
        "57a2fcf9afc145ce9802d2f90dd9596e": {
          "model_module": "@jupyter-widgets/controls",
          "model_name": "HBoxModel",
          "model_module_version": "1.5.0",
          "state": {
            "_dom_classes": [],
            "_model_module": "@jupyter-widgets/controls",
            "_model_module_version": "1.5.0",
            "_model_name": "HBoxModel",
            "_view_count": null,
            "_view_module": "@jupyter-widgets/controls",
            "_view_module_version": "1.5.0",
            "_view_name": "HBoxView",
            "box_style": "",
            "children": [
              "IPY_MODEL_ffbd3beb7e3841c687dd57e184006646",
              "IPY_MODEL_9fd6705e2663476aba5138073434c75f",
              "IPY_MODEL_fc59a7172060468b9eb7824bc87d9407"
            ],
            "layout": "IPY_MODEL_1e8b6c9699174b7fb191960c01003d04"
          }
        },
        "ffbd3beb7e3841c687dd57e184006646": {
          "model_module": "@jupyter-widgets/controls",
          "model_name": "HTMLModel",
          "model_module_version": "1.5.0",
          "state": {
            "_dom_classes": [],
            "_model_module": "@jupyter-widgets/controls",
            "_model_module_version": "1.5.0",
            "_model_name": "HTMLModel",
            "_view_count": null,
            "_view_module": "@jupyter-widgets/controls",
            "_view_module_version": "1.5.0",
            "_view_name": "HTMLView",
            "description": "",
            "description_tooltip": null,
            "layout": "IPY_MODEL_df40553e236a428b859140a386ef2502",
            "placeholder": "​",
            "style": "IPY_MODEL_ccfb8eea974e40848792bd6bd3232e7a",
            "value": "100%"
          }
        },
        "9fd6705e2663476aba5138073434c75f": {
          "model_module": "@jupyter-widgets/controls",
          "model_name": "FloatProgressModel",
          "model_module_version": "1.5.0",
          "state": {
            "_dom_classes": [],
            "_model_module": "@jupyter-widgets/controls",
            "_model_module_version": "1.5.0",
            "_model_name": "FloatProgressModel",
            "_view_count": null,
            "_view_module": "@jupyter-widgets/controls",
            "_view_module_version": "1.5.0",
            "_view_name": "ProgressView",
            "bar_style": "success",
            "description": "",
            "description_tooltip": null,
            "layout": "IPY_MODEL_83ec4a6a762b4e79aeab8b8ee9ed7836",
            "max": 38726,
            "min": 0,
            "orientation": "horizontal",
            "style": "IPY_MODEL_ae7f834d2265444c92cf13b9b6af8b3c",
            "value": 38726
          }
        },
        "fc59a7172060468b9eb7824bc87d9407": {
          "model_module": "@jupyter-widgets/controls",
          "model_name": "HTMLModel",
          "model_module_version": "1.5.0",
          "state": {
            "_dom_classes": [],
            "_model_module": "@jupyter-widgets/controls",
            "_model_module_version": "1.5.0",
            "_model_name": "HTMLModel",
            "_view_count": null,
            "_view_module": "@jupyter-widgets/controls",
            "_view_module_version": "1.5.0",
            "_view_name": "HTMLView",
            "description": "",
            "description_tooltip": null,
            "layout": "IPY_MODEL_9cdbeafa2b474959a0dc31955af746be",
            "placeholder": "​",
            "style": "IPY_MODEL_edafe48c4ca34f65a1820fd81586af71",
            "value": " 38726/38726 [00:47&lt;00:00, 374.60it/s]"
          }
        },
        "1e8b6c9699174b7fb191960c01003d04": {
          "model_module": "@jupyter-widgets/base",
          "model_name": "LayoutModel",
          "model_module_version": "1.2.0",
          "state": {
            "_model_module": "@jupyter-widgets/base",
            "_model_module_version": "1.2.0",
            "_model_name": "LayoutModel",
            "_view_count": null,
            "_view_module": "@jupyter-widgets/base",
            "_view_module_version": "1.2.0",
            "_view_name": "LayoutView",
            "align_content": null,
            "align_items": null,
            "align_self": null,
            "border": null,
            "bottom": null,
            "display": null,
            "flex": null,
            "flex_flow": null,
            "grid_area": null,
            "grid_auto_columns": null,
            "grid_auto_flow": null,
            "grid_auto_rows": null,
            "grid_column": null,
            "grid_gap": null,
            "grid_row": null,
            "grid_template_areas": null,
            "grid_template_columns": null,
            "grid_template_rows": null,
            "height": null,
            "justify_content": null,
            "justify_items": null,
            "left": null,
            "margin": null,
            "max_height": null,
            "max_width": null,
            "min_height": null,
            "min_width": null,
            "object_fit": null,
            "object_position": null,
            "order": null,
            "overflow": null,
            "overflow_x": null,
            "overflow_y": null,
            "padding": null,
            "right": null,
            "top": null,
            "visibility": null,
            "width": null
          }
        },
        "df40553e236a428b859140a386ef2502": {
          "model_module": "@jupyter-widgets/base",
          "model_name": "LayoutModel",
          "model_module_version": "1.2.0",
          "state": {
            "_model_module": "@jupyter-widgets/base",
            "_model_module_version": "1.2.0",
            "_model_name": "LayoutModel",
            "_view_count": null,
            "_view_module": "@jupyter-widgets/base",
            "_view_module_version": "1.2.0",
            "_view_name": "LayoutView",
            "align_content": null,
            "align_items": null,
            "align_self": null,
            "border": null,
            "bottom": null,
            "display": null,
            "flex": null,
            "flex_flow": null,
            "grid_area": null,
            "grid_auto_columns": null,
            "grid_auto_flow": null,
            "grid_auto_rows": null,
            "grid_column": null,
            "grid_gap": null,
            "grid_row": null,
            "grid_template_areas": null,
            "grid_template_columns": null,
            "grid_template_rows": null,
            "height": null,
            "justify_content": null,
            "justify_items": null,
            "left": null,
            "margin": null,
            "max_height": null,
            "max_width": null,
            "min_height": null,
            "min_width": null,
            "object_fit": null,
            "object_position": null,
            "order": null,
            "overflow": null,
            "overflow_x": null,
            "overflow_y": null,
            "padding": null,
            "right": null,
            "top": null,
            "visibility": null,
            "width": null
          }
        },
        "ccfb8eea974e40848792bd6bd3232e7a": {
          "model_module": "@jupyter-widgets/controls",
          "model_name": "DescriptionStyleModel",
          "model_module_version": "1.5.0",
          "state": {
            "_model_module": "@jupyter-widgets/controls",
            "_model_module_version": "1.5.0",
            "_model_name": "DescriptionStyleModel",
            "_view_count": null,
            "_view_module": "@jupyter-widgets/base",
            "_view_module_version": "1.2.0",
            "_view_name": "StyleView",
            "description_width": ""
          }
        },
        "83ec4a6a762b4e79aeab8b8ee9ed7836": {
          "model_module": "@jupyter-widgets/base",
          "model_name": "LayoutModel",
          "model_module_version": "1.2.0",
          "state": {
            "_model_module": "@jupyter-widgets/base",
            "_model_module_version": "1.2.0",
            "_model_name": "LayoutModel",
            "_view_count": null,
            "_view_module": "@jupyter-widgets/base",
            "_view_module_version": "1.2.0",
            "_view_name": "LayoutView",
            "align_content": null,
            "align_items": null,
            "align_self": null,
            "border": null,
            "bottom": null,
            "display": null,
            "flex": null,
            "flex_flow": null,
            "grid_area": null,
            "grid_auto_columns": null,
            "grid_auto_flow": null,
            "grid_auto_rows": null,
            "grid_column": null,
            "grid_gap": null,
            "grid_row": null,
            "grid_template_areas": null,
            "grid_template_columns": null,
            "grid_template_rows": null,
            "height": null,
            "justify_content": null,
            "justify_items": null,
            "left": null,
            "margin": null,
            "max_height": null,
            "max_width": null,
            "min_height": null,
            "min_width": null,
            "object_fit": null,
            "object_position": null,
            "order": null,
            "overflow": null,
            "overflow_x": null,
            "overflow_y": null,
            "padding": null,
            "right": null,
            "top": null,
            "visibility": null,
            "width": null
          }
        },
        "ae7f834d2265444c92cf13b9b6af8b3c": {
          "model_module": "@jupyter-widgets/controls",
          "model_name": "ProgressStyleModel",
          "model_module_version": "1.5.0",
          "state": {
            "_model_module": "@jupyter-widgets/controls",
            "_model_module_version": "1.5.0",
            "_model_name": "ProgressStyleModel",
            "_view_count": null,
            "_view_module": "@jupyter-widgets/base",
            "_view_module_version": "1.2.0",
            "_view_name": "StyleView",
            "bar_color": null,
            "description_width": ""
          }
        },
        "9cdbeafa2b474959a0dc31955af746be": {
          "model_module": "@jupyter-widgets/base",
          "model_name": "LayoutModel",
          "model_module_version": "1.2.0",
          "state": {
            "_model_module": "@jupyter-widgets/base",
            "_model_module_version": "1.2.0",
            "_model_name": "LayoutModel",
            "_view_count": null,
            "_view_module": "@jupyter-widgets/base",
            "_view_module_version": "1.2.0",
            "_view_name": "LayoutView",
            "align_content": null,
            "align_items": null,
            "align_self": null,
            "border": null,
            "bottom": null,
            "display": null,
            "flex": null,
            "flex_flow": null,
            "grid_area": null,
            "grid_auto_columns": null,
            "grid_auto_flow": null,
            "grid_auto_rows": null,
            "grid_column": null,
            "grid_gap": null,
            "grid_row": null,
            "grid_template_areas": null,
            "grid_template_columns": null,
            "grid_template_rows": null,
            "height": null,
            "justify_content": null,
            "justify_items": null,
            "left": null,
            "margin": null,
            "max_height": null,
            "max_width": null,
            "min_height": null,
            "min_width": null,
            "object_fit": null,
            "object_position": null,
            "order": null,
            "overflow": null,
            "overflow_x": null,
            "overflow_y": null,
            "padding": null,
            "right": null,
            "top": null,
            "visibility": null,
            "width": null
          }
        },
        "edafe48c4ca34f65a1820fd81586af71": {
          "model_module": "@jupyter-widgets/controls",
          "model_name": "DescriptionStyleModel",
          "model_module_version": "1.5.0",
          "state": {
            "_model_module": "@jupyter-widgets/controls",
            "_model_module_version": "1.5.0",
            "_model_name": "DescriptionStyleModel",
            "_view_count": null,
            "_view_module": "@jupyter-widgets/base",
            "_view_module_version": "1.2.0",
            "_view_name": "StyleView",
            "description_width": ""
          }
        },
        "1a7bc380f58544d89962ae1d654a29f3": {
          "model_module": "@jupyter-widgets/controls",
          "model_name": "HBoxModel",
          "model_module_version": "1.5.0",
          "state": {
            "_dom_classes": [],
            "_model_module": "@jupyter-widgets/controls",
            "_model_module_version": "1.5.0",
            "_model_name": "HBoxModel",
            "_view_count": null,
            "_view_module": "@jupyter-widgets/controls",
            "_view_module_version": "1.5.0",
            "_view_name": "HBoxView",
            "box_style": "",
            "children": [
              "IPY_MODEL_e21356795934461f9f6ee0d05e2bd7ff",
              "IPY_MODEL_8fc9263d7076486da3665c31d767a9c7",
              "IPY_MODEL_601c8784746a404a94ba25f0c7bfa540"
            ],
            "layout": "IPY_MODEL_4c9321de2f4b4f2ea69d6a50b698fa39"
          }
        },
        "e21356795934461f9f6ee0d05e2bd7ff": {
          "model_module": "@jupyter-widgets/controls",
          "model_name": "HTMLModel",
          "model_module_version": "1.5.0",
          "state": {
            "_dom_classes": [],
            "_model_module": "@jupyter-widgets/controls",
            "_model_module_version": "1.5.0",
            "_model_name": "HTMLModel",
            "_view_count": null,
            "_view_module": "@jupyter-widgets/controls",
            "_view_module_version": "1.5.0",
            "_view_name": "HTMLView",
            "description": "",
            "description_tooltip": null,
            "layout": "IPY_MODEL_0e9f178d78d1480f81bf39480567018d",
            "placeholder": "​",
            "style": "IPY_MODEL_0784e8e707eb4ee39e23829fb173817d",
            "value": "100%"
          }
        },
        "8fc9263d7076486da3665c31d767a9c7": {
          "model_module": "@jupyter-widgets/controls",
          "model_name": "FloatProgressModel",
          "model_module_version": "1.5.0",
          "state": {
            "_dom_classes": [],
            "_model_module": "@jupyter-widgets/controls",
            "_model_module_version": "1.5.0",
            "_model_name": "FloatProgressModel",
            "_view_count": null,
            "_view_module": "@jupyter-widgets/controls",
            "_view_module_version": "1.5.0",
            "_view_name": "ProgressView",
            "bar_style": "success",
            "description": "",
            "description_tooltip": null,
            "layout": "IPY_MODEL_90d61eae219543eab7391df15c8d72bd",
            "max": 38310,
            "min": 0,
            "orientation": "horizontal",
            "style": "IPY_MODEL_c45b89cfbbe24b88aa9d716fb002f321",
            "value": 38310
          }
        },
        "601c8784746a404a94ba25f0c7bfa540": {
          "model_module": "@jupyter-widgets/controls",
          "model_name": "HTMLModel",
          "model_module_version": "1.5.0",
          "state": {
            "_dom_classes": [],
            "_model_module": "@jupyter-widgets/controls",
            "_model_module_version": "1.5.0",
            "_model_name": "HTMLModel",
            "_view_count": null,
            "_view_module": "@jupyter-widgets/controls",
            "_view_module_version": "1.5.0",
            "_view_name": "HTMLView",
            "description": "",
            "description_tooltip": null,
            "layout": "IPY_MODEL_5e9e5695ffab4438941a7999a36e72df",
            "placeholder": "​",
            "style": "IPY_MODEL_2caadc95902b44f79359ac853b17919c",
            "value": " 38310/38310 [01:19&lt;00:00, 708.08it/s]"
          }
        },
        "4c9321de2f4b4f2ea69d6a50b698fa39": {
          "model_module": "@jupyter-widgets/base",
          "model_name": "LayoutModel",
          "model_module_version": "1.2.0",
          "state": {
            "_model_module": "@jupyter-widgets/base",
            "_model_module_version": "1.2.0",
            "_model_name": "LayoutModel",
            "_view_count": null,
            "_view_module": "@jupyter-widgets/base",
            "_view_module_version": "1.2.0",
            "_view_name": "LayoutView",
            "align_content": null,
            "align_items": null,
            "align_self": null,
            "border": null,
            "bottom": null,
            "display": null,
            "flex": null,
            "flex_flow": null,
            "grid_area": null,
            "grid_auto_columns": null,
            "grid_auto_flow": null,
            "grid_auto_rows": null,
            "grid_column": null,
            "grid_gap": null,
            "grid_row": null,
            "grid_template_areas": null,
            "grid_template_columns": null,
            "grid_template_rows": null,
            "height": null,
            "justify_content": null,
            "justify_items": null,
            "left": null,
            "margin": null,
            "max_height": null,
            "max_width": null,
            "min_height": null,
            "min_width": null,
            "object_fit": null,
            "object_position": null,
            "order": null,
            "overflow": null,
            "overflow_x": null,
            "overflow_y": null,
            "padding": null,
            "right": null,
            "top": null,
            "visibility": null,
            "width": null
          }
        },
        "0e9f178d78d1480f81bf39480567018d": {
          "model_module": "@jupyter-widgets/base",
          "model_name": "LayoutModel",
          "model_module_version": "1.2.0",
          "state": {
            "_model_module": "@jupyter-widgets/base",
            "_model_module_version": "1.2.0",
            "_model_name": "LayoutModel",
            "_view_count": null,
            "_view_module": "@jupyter-widgets/base",
            "_view_module_version": "1.2.0",
            "_view_name": "LayoutView",
            "align_content": null,
            "align_items": null,
            "align_self": null,
            "border": null,
            "bottom": null,
            "display": null,
            "flex": null,
            "flex_flow": null,
            "grid_area": null,
            "grid_auto_columns": null,
            "grid_auto_flow": null,
            "grid_auto_rows": null,
            "grid_column": null,
            "grid_gap": null,
            "grid_row": null,
            "grid_template_areas": null,
            "grid_template_columns": null,
            "grid_template_rows": null,
            "height": null,
            "justify_content": null,
            "justify_items": null,
            "left": null,
            "margin": null,
            "max_height": null,
            "max_width": null,
            "min_height": null,
            "min_width": null,
            "object_fit": null,
            "object_position": null,
            "order": null,
            "overflow": null,
            "overflow_x": null,
            "overflow_y": null,
            "padding": null,
            "right": null,
            "top": null,
            "visibility": null,
            "width": null
          }
        },
        "0784e8e707eb4ee39e23829fb173817d": {
          "model_module": "@jupyter-widgets/controls",
          "model_name": "DescriptionStyleModel",
          "model_module_version": "1.5.0",
          "state": {
            "_model_module": "@jupyter-widgets/controls",
            "_model_module_version": "1.5.0",
            "_model_name": "DescriptionStyleModel",
            "_view_count": null,
            "_view_module": "@jupyter-widgets/base",
            "_view_module_version": "1.2.0",
            "_view_name": "StyleView",
            "description_width": ""
          }
        },
        "90d61eae219543eab7391df15c8d72bd": {
          "model_module": "@jupyter-widgets/base",
          "model_name": "LayoutModel",
          "model_module_version": "1.2.0",
          "state": {
            "_model_module": "@jupyter-widgets/base",
            "_model_module_version": "1.2.0",
            "_model_name": "LayoutModel",
            "_view_count": null,
            "_view_module": "@jupyter-widgets/base",
            "_view_module_version": "1.2.0",
            "_view_name": "LayoutView",
            "align_content": null,
            "align_items": null,
            "align_self": null,
            "border": null,
            "bottom": null,
            "display": null,
            "flex": null,
            "flex_flow": null,
            "grid_area": null,
            "grid_auto_columns": null,
            "grid_auto_flow": null,
            "grid_auto_rows": null,
            "grid_column": null,
            "grid_gap": null,
            "grid_row": null,
            "grid_template_areas": null,
            "grid_template_columns": null,
            "grid_template_rows": null,
            "height": null,
            "justify_content": null,
            "justify_items": null,
            "left": null,
            "margin": null,
            "max_height": null,
            "max_width": null,
            "min_height": null,
            "min_width": null,
            "object_fit": null,
            "object_position": null,
            "order": null,
            "overflow": null,
            "overflow_x": null,
            "overflow_y": null,
            "padding": null,
            "right": null,
            "top": null,
            "visibility": null,
            "width": null
          }
        },
        "c45b89cfbbe24b88aa9d716fb002f321": {
          "model_module": "@jupyter-widgets/controls",
          "model_name": "ProgressStyleModel",
          "model_module_version": "1.5.0",
          "state": {
            "_model_module": "@jupyter-widgets/controls",
            "_model_module_version": "1.5.0",
            "_model_name": "ProgressStyleModel",
            "_view_count": null,
            "_view_module": "@jupyter-widgets/base",
            "_view_module_version": "1.2.0",
            "_view_name": "StyleView",
            "bar_color": null,
            "description_width": ""
          }
        },
        "5e9e5695ffab4438941a7999a36e72df": {
          "model_module": "@jupyter-widgets/base",
          "model_name": "LayoutModel",
          "model_module_version": "1.2.0",
          "state": {
            "_model_module": "@jupyter-widgets/base",
            "_model_module_version": "1.2.0",
            "_model_name": "LayoutModel",
            "_view_count": null,
            "_view_module": "@jupyter-widgets/base",
            "_view_module_version": "1.2.0",
            "_view_name": "LayoutView",
            "align_content": null,
            "align_items": null,
            "align_self": null,
            "border": null,
            "bottom": null,
            "display": null,
            "flex": null,
            "flex_flow": null,
            "grid_area": null,
            "grid_auto_columns": null,
            "grid_auto_flow": null,
            "grid_auto_rows": null,
            "grid_column": null,
            "grid_gap": null,
            "grid_row": null,
            "grid_template_areas": null,
            "grid_template_columns": null,
            "grid_template_rows": null,
            "height": null,
            "justify_content": null,
            "justify_items": null,
            "left": null,
            "margin": null,
            "max_height": null,
            "max_width": null,
            "min_height": null,
            "min_width": null,
            "object_fit": null,
            "object_position": null,
            "order": null,
            "overflow": null,
            "overflow_x": null,
            "overflow_y": null,
            "padding": null,
            "right": null,
            "top": null,
            "visibility": null,
            "width": null
          }
        },
        "2caadc95902b44f79359ac853b17919c": {
          "model_module": "@jupyter-widgets/controls",
          "model_name": "DescriptionStyleModel",
          "model_module_version": "1.5.0",
          "state": {
            "_model_module": "@jupyter-widgets/controls",
            "_model_module_version": "1.5.0",
            "_model_name": "DescriptionStyleModel",
            "_view_count": null,
            "_view_module": "@jupyter-widgets/base",
            "_view_module_version": "1.2.0",
            "_view_name": "StyleView",
            "description_width": ""
          }
        },
        "dce6fdfd362b4a32bef0565487b460df": {
          "model_module": "@jupyter-widgets/controls",
          "model_name": "HBoxModel",
          "model_module_version": "1.5.0",
          "state": {
            "_dom_classes": [],
            "_model_module": "@jupyter-widgets/controls",
            "_model_module_version": "1.5.0",
            "_model_name": "HBoxModel",
            "_view_count": null,
            "_view_module": "@jupyter-widgets/controls",
            "_view_module_version": "1.5.0",
            "_view_name": "HBoxView",
            "box_style": "",
            "children": [
              "IPY_MODEL_72d4d0dd6ee8432d81016ffe80919a1b",
              "IPY_MODEL_81cc9a9906b34d7fb3177eac45447d81",
              "IPY_MODEL_0006963031474ab996f729410c8e964b"
            ],
            "layout": "IPY_MODEL_ca963c8e7ad343bfa6d6c12dc4dcf998"
          }
        },
        "72d4d0dd6ee8432d81016ffe80919a1b": {
          "model_module": "@jupyter-widgets/controls",
          "model_name": "HTMLModel",
          "model_module_version": "1.5.0",
          "state": {
            "_dom_classes": [],
            "_model_module": "@jupyter-widgets/controls",
            "_model_module_version": "1.5.0",
            "_model_name": "HTMLModel",
            "_view_count": null,
            "_view_module": "@jupyter-widgets/controls",
            "_view_module_version": "1.5.0",
            "_view_name": "HTMLView",
            "description": "",
            "description_tooltip": null,
            "layout": "IPY_MODEL_2cd404a2c1df48878f04e625ca224661",
            "placeholder": "​",
            "style": "IPY_MODEL_23fe35eddec8489a94468ab0e614ca84",
            "value": "100%"
          }
        },
        "81cc9a9906b34d7fb3177eac45447d81": {
          "model_module": "@jupyter-widgets/controls",
          "model_name": "FloatProgressModel",
          "model_module_version": "1.5.0",
          "state": {
            "_dom_classes": [],
            "_model_module": "@jupyter-widgets/controls",
            "_model_module_version": "1.5.0",
            "_model_name": "FloatProgressModel",
            "_view_count": null,
            "_view_module": "@jupyter-widgets/controls",
            "_view_module_version": "1.5.0",
            "_view_name": "ProgressView",
            "bar_style": "success",
            "description": "",
            "description_tooltip": null,
            "layout": "IPY_MODEL_ecf08d857c1840b88e95d970df4f127a",
            "max": 24311,
            "min": 0,
            "orientation": "horizontal",
            "style": "IPY_MODEL_5a08e7396660435ebf71ddd0dc852973",
            "value": 24311
          }
        },
        "0006963031474ab996f729410c8e964b": {
          "model_module": "@jupyter-widgets/controls",
          "model_name": "HTMLModel",
          "model_module_version": "1.5.0",
          "state": {
            "_dom_classes": [],
            "_model_module": "@jupyter-widgets/controls",
            "_model_module_version": "1.5.0",
            "_model_name": "HTMLModel",
            "_view_count": null,
            "_view_module": "@jupyter-widgets/controls",
            "_view_module_version": "1.5.0",
            "_view_name": "HTMLView",
            "description": "",
            "description_tooltip": null,
            "layout": "IPY_MODEL_10b6f1a0ab1b4e9c88ded576942e4f70",
            "placeholder": "​",
            "style": "IPY_MODEL_f306567b847342e7821ef2401c2948ad",
            "value": " 24311/24311 [00:15&lt;00:00, 2837.60it/s]"
          }
        },
        "ca963c8e7ad343bfa6d6c12dc4dcf998": {
          "model_module": "@jupyter-widgets/base",
          "model_name": "LayoutModel",
          "model_module_version": "1.2.0",
          "state": {
            "_model_module": "@jupyter-widgets/base",
            "_model_module_version": "1.2.0",
            "_model_name": "LayoutModel",
            "_view_count": null,
            "_view_module": "@jupyter-widgets/base",
            "_view_module_version": "1.2.0",
            "_view_name": "LayoutView",
            "align_content": null,
            "align_items": null,
            "align_self": null,
            "border": null,
            "bottom": null,
            "display": null,
            "flex": null,
            "flex_flow": null,
            "grid_area": null,
            "grid_auto_columns": null,
            "grid_auto_flow": null,
            "grid_auto_rows": null,
            "grid_column": null,
            "grid_gap": null,
            "grid_row": null,
            "grid_template_areas": null,
            "grid_template_columns": null,
            "grid_template_rows": null,
            "height": null,
            "justify_content": null,
            "justify_items": null,
            "left": null,
            "margin": null,
            "max_height": null,
            "max_width": null,
            "min_height": null,
            "min_width": null,
            "object_fit": null,
            "object_position": null,
            "order": null,
            "overflow": null,
            "overflow_x": null,
            "overflow_y": null,
            "padding": null,
            "right": null,
            "top": null,
            "visibility": null,
            "width": null
          }
        },
        "2cd404a2c1df48878f04e625ca224661": {
          "model_module": "@jupyter-widgets/base",
          "model_name": "LayoutModel",
          "model_module_version": "1.2.0",
          "state": {
            "_model_module": "@jupyter-widgets/base",
            "_model_module_version": "1.2.0",
            "_model_name": "LayoutModel",
            "_view_count": null,
            "_view_module": "@jupyter-widgets/base",
            "_view_module_version": "1.2.0",
            "_view_name": "LayoutView",
            "align_content": null,
            "align_items": null,
            "align_self": null,
            "border": null,
            "bottom": null,
            "display": null,
            "flex": null,
            "flex_flow": null,
            "grid_area": null,
            "grid_auto_columns": null,
            "grid_auto_flow": null,
            "grid_auto_rows": null,
            "grid_column": null,
            "grid_gap": null,
            "grid_row": null,
            "grid_template_areas": null,
            "grid_template_columns": null,
            "grid_template_rows": null,
            "height": null,
            "justify_content": null,
            "justify_items": null,
            "left": null,
            "margin": null,
            "max_height": null,
            "max_width": null,
            "min_height": null,
            "min_width": null,
            "object_fit": null,
            "object_position": null,
            "order": null,
            "overflow": null,
            "overflow_x": null,
            "overflow_y": null,
            "padding": null,
            "right": null,
            "top": null,
            "visibility": null,
            "width": null
          }
        },
        "23fe35eddec8489a94468ab0e614ca84": {
          "model_module": "@jupyter-widgets/controls",
          "model_name": "DescriptionStyleModel",
          "model_module_version": "1.5.0",
          "state": {
            "_model_module": "@jupyter-widgets/controls",
            "_model_module_version": "1.5.0",
            "_model_name": "DescriptionStyleModel",
            "_view_count": null,
            "_view_module": "@jupyter-widgets/base",
            "_view_module_version": "1.2.0",
            "_view_name": "StyleView",
            "description_width": ""
          }
        },
        "ecf08d857c1840b88e95d970df4f127a": {
          "model_module": "@jupyter-widgets/base",
          "model_name": "LayoutModel",
          "model_module_version": "1.2.0",
          "state": {
            "_model_module": "@jupyter-widgets/base",
            "_model_module_version": "1.2.0",
            "_model_name": "LayoutModel",
            "_view_count": null,
            "_view_module": "@jupyter-widgets/base",
            "_view_module_version": "1.2.0",
            "_view_name": "LayoutView",
            "align_content": null,
            "align_items": null,
            "align_self": null,
            "border": null,
            "bottom": null,
            "display": null,
            "flex": null,
            "flex_flow": null,
            "grid_area": null,
            "grid_auto_columns": null,
            "grid_auto_flow": null,
            "grid_auto_rows": null,
            "grid_column": null,
            "grid_gap": null,
            "grid_row": null,
            "grid_template_areas": null,
            "grid_template_columns": null,
            "grid_template_rows": null,
            "height": null,
            "justify_content": null,
            "justify_items": null,
            "left": null,
            "margin": null,
            "max_height": null,
            "max_width": null,
            "min_height": null,
            "min_width": null,
            "object_fit": null,
            "object_position": null,
            "order": null,
            "overflow": null,
            "overflow_x": null,
            "overflow_y": null,
            "padding": null,
            "right": null,
            "top": null,
            "visibility": null,
            "width": null
          }
        },
        "5a08e7396660435ebf71ddd0dc852973": {
          "model_module": "@jupyter-widgets/controls",
          "model_name": "ProgressStyleModel",
          "model_module_version": "1.5.0",
          "state": {
            "_model_module": "@jupyter-widgets/controls",
            "_model_module_version": "1.5.0",
            "_model_name": "ProgressStyleModel",
            "_view_count": null,
            "_view_module": "@jupyter-widgets/base",
            "_view_module_version": "1.2.0",
            "_view_name": "StyleView",
            "bar_color": null,
            "description_width": ""
          }
        },
        "10b6f1a0ab1b4e9c88ded576942e4f70": {
          "model_module": "@jupyter-widgets/base",
          "model_name": "LayoutModel",
          "model_module_version": "1.2.0",
          "state": {
            "_model_module": "@jupyter-widgets/base",
            "_model_module_version": "1.2.0",
            "_model_name": "LayoutModel",
            "_view_count": null,
            "_view_module": "@jupyter-widgets/base",
            "_view_module_version": "1.2.0",
            "_view_name": "LayoutView",
            "align_content": null,
            "align_items": null,
            "align_self": null,
            "border": null,
            "bottom": null,
            "display": null,
            "flex": null,
            "flex_flow": null,
            "grid_area": null,
            "grid_auto_columns": null,
            "grid_auto_flow": null,
            "grid_auto_rows": null,
            "grid_column": null,
            "grid_gap": null,
            "grid_row": null,
            "grid_template_areas": null,
            "grid_template_columns": null,
            "grid_template_rows": null,
            "height": null,
            "justify_content": null,
            "justify_items": null,
            "left": null,
            "margin": null,
            "max_height": null,
            "max_width": null,
            "min_height": null,
            "min_width": null,
            "object_fit": null,
            "object_position": null,
            "order": null,
            "overflow": null,
            "overflow_x": null,
            "overflow_y": null,
            "padding": null,
            "right": null,
            "top": null,
            "visibility": null,
            "width": null
          }
        },
        "f306567b847342e7821ef2401c2948ad": {
          "model_module": "@jupyter-widgets/controls",
          "model_name": "DescriptionStyleModel",
          "model_module_version": "1.5.0",
          "state": {
            "_model_module": "@jupyter-widgets/controls",
            "_model_module_version": "1.5.0",
            "_model_name": "DescriptionStyleModel",
            "_view_count": null,
            "_view_module": "@jupyter-widgets/base",
            "_view_module_version": "1.2.0",
            "_view_name": "StyleView",
            "description_width": ""
          }
        },
        "64ba65ce55d9499d8d1192e0cb4c02ce": {
          "model_module": "@jupyter-widgets/controls",
          "model_name": "HBoxModel",
          "model_module_version": "1.5.0",
          "state": {
            "_dom_classes": [],
            "_model_module": "@jupyter-widgets/controls",
            "_model_module_version": "1.5.0",
            "_model_name": "HBoxModel",
            "_view_count": null,
            "_view_module": "@jupyter-widgets/controls",
            "_view_module_version": "1.5.0",
            "_view_name": "HBoxView",
            "box_style": "",
            "children": [
              "IPY_MODEL_5f6aca942ae54533bf3e032ff38f7dd9",
              "IPY_MODEL_02ddf5f1573e4d37a541bc16aa6ef217",
              "IPY_MODEL_df20403d21a244839d5e17eb6ae8ff1c"
            ],
            "layout": "IPY_MODEL_8291ec1de5804e99b36113f3440d8f0d"
          }
        },
        "5f6aca942ae54533bf3e032ff38f7dd9": {
          "model_module": "@jupyter-widgets/controls",
          "model_name": "HTMLModel",
          "model_module_version": "1.5.0",
          "state": {
            "_dom_classes": [],
            "_model_module": "@jupyter-widgets/controls",
            "_model_module_version": "1.5.0",
            "_model_name": "HTMLModel",
            "_view_count": null,
            "_view_module": "@jupyter-widgets/controls",
            "_view_module_version": "1.5.0",
            "_view_name": "HTMLView",
            "description": "",
            "description_tooltip": null,
            "layout": "IPY_MODEL_2a798a8ef69743769287abad84f3bcb4",
            "placeholder": "​",
            "style": "IPY_MODEL_6939794e071f470793876020c734e15a",
            "value": "100%"
          }
        },
        "02ddf5f1573e4d37a541bc16aa6ef217": {
          "model_module": "@jupyter-widgets/controls",
          "model_name": "FloatProgressModel",
          "model_module_version": "1.5.0",
          "state": {
            "_dom_classes": [],
            "_model_module": "@jupyter-widgets/controls",
            "_model_module_version": "1.5.0",
            "_model_name": "FloatProgressModel",
            "_view_count": null,
            "_view_module": "@jupyter-widgets/controls",
            "_view_module_version": "1.5.0",
            "_view_name": "ProgressView",
            "bar_style": "success",
            "description": "",
            "description_tooltip": null,
            "layout": "IPY_MODEL_98602be6b896495cae05a6bbc30b89af",
            "max": 23310,
            "min": 0,
            "orientation": "horizontal",
            "style": "IPY_MODEL_2c294f82fc2c4c4696e65254c1fb6be5",
            "value": 23310
          }
        },
        "df20403d21a244839d5e17eb6ae8ff1c": {
          "model_module": "@jupyter-widgets/controls",
          "model_name": "HTMLModel",
          "model_module_version": "1.5.0",
          "state": {
            "_dom_classes": [],
            "_model_module": "@jupyter-widgets/controls",
            "_model_module_version": "1.5.0",
            "_model_name": "HTMLModel",
            "_view_count": null,
            "_view_module": "@jupyter-widgets/controls",
            "_view_module_version": "1.5.0",
            "_view_name": "HTMLView",
            "description": "",
            "description_tooltip": null,
            "layout": "IPY_MODEL_f989522c721f41629493cd8fdbdfd496",
            "placeholder": "​",
            "style": "IPY_MODEL_c822bce57959455ba74e09c845daa1e7",
            "value": " 23310/23310 [00:39&lt;00:00, 700.89it/s]"
          }
        },
        "8291ec1de5804e99b36113f3440d8f0d": {
          "model_module": "@jupyter-widgets/base",
          "model_name": "LayoutModel",
          "model_module_version": "1.2.0",
          "state": {
            "_model_module": "@jupyter-widgets/base",
            "_model_module_version": "1.2.0",
            "_model_name": "LayoutModel",
            "_view_count": null,
            "_view_module": "@jupyter-widgets/base",
            "_view_module_version": "1.2.0",
            "_view_name": "LayoutView",
            "align_content": null,
            "align_items": null,
            "align_self": null,
            "border": null,
            "bottom": null,
            "display": null,
            "flex": null,
            "flex_flow": null,
            "grid_area": null,
            "grid_auto_columns": null,
            "grid_auto_flow": null,
            "grid_auto_rows": null,
            "grid_column": null,
            "grid_gap": null,
            "grid_row": null,
            "grid_template_areas": null,
            "grid_template_columns": null,
            "grid_template_rows": null,
            "height": null,
            "justify_content": null,
            "justify_items": null,
            "left": null,
            "margin": null,
            "max_height": null,
            "max_width": null,
            "min_height": null,
            "min_width": null,
            "object_fit": null,
            "object_position": null,
            "order": null,
            "overflow": null,
            "overflow_x": null,
            "overflow_y": null,
            "padding": null,
            "right": null,
            "top": null,
            "visibility": null,
            "width": null
          }
        },
        "2a798a8ef69743769287abad84f3bcb4": {
          "model_module": "@jupyter-widgets/base",
          "model_name": "LayoutModel",
          "model_module_version": "1.2.0",
          "state": {
            "_model_module": "@jupyter-widgets/base",
            "_model_module_version": "1.2.0",
            "_model_name": "LayoutModel",
            "_view_count": null,
            "_view_module": "@jupyter-widgets/base",
            "_view_module_version": "1.2.0",
            "_view_name": "LayoutView",
            "align_content": null,
            "align_items": null,
            "align_self": null,
            "border": null,
            "bottom": null,
            "display": null,
            "flex": null,
            "flex_flow": null,
            "grid_area": null,
            "grid_auto_columns": null,
            "grid_auto_flow": null,
            "grid_auto_rows": null,
            "grid_column": null,
            "grid_gap": null,
            "grid_row": null,
            "grid_template_areas": null,
            "grid_template_columns": null,
            "grid_template_rows": null,
            "height": null,
            "justify_content": null,
            "justify_items": null,
            "left": null,
            "margin": null,
            "max_height": null,
            "max_width": null,
            "min_height": null,
            "min_width": null,
            "object_fit": null,
            "object_position": null,
            "order": null,
            "overflow": null,
            "overflow_x": null,
            "overflow_y": null,
            "padding": null,
            "right": null,
            "top": null,
            "visibility": null,
            "width": null
          }
        },
        "6939794e071f470793876020c734e15a": {
          "model_module": "@jupyter-widgets/controls",
          "model_name": "DescriptionStyleModel",
          "model_module_version": "1.5.0",
          "state": {
            "_model_module": "@jupyter-widgets/controls",
            "_model_module_version": "1.5.0",
            "_model_name": "DescriptionStyleModel",
            "_view_count": null,
            "_view_module": "@jupyter-widgets/base",
            "_view_module_version": "1.2.0",
            "_view_name": "StyleView",
            "description_width": ""
          }
        },
        "98602be6b896495cae05a6bbc30b89af": {
          "model_module": "@jupyter-widgets/base",
          "model_name": "LayoutModel",
          "model_module_version": "1.2.0",
          "state": {
            "_model_module": "@jupyter-widgets/base",
            "_model_module_version": "1.2.0",
            "_model_name": "LayoutModel",
            "_view_count": null,
            "_view_module": "@jupyter-widgets/base",
            "_view_module_version": "1.2.0",
            "_view_name": "LayoutView",
            "align_content": null,
            "align_items": null,
            "align_self": null,
            "border": null,
            "bottom": null,
            "display": null,
            "flex": null,
            "flex_flow": null,
            "grid_area": null,
            "grid_auto_columns": null,
            "grid_auto_flow": null,
            "grid_auto_rows": null,
            "grid_column": null,
            "grid_gap": null,
            "grid_row": null,
            "grid_template_areas": null,
            "grid_template_columns": null,
            "grid_template_rows": null,
            "height": null,
            "justify_content": null,
            "justify_items": null,
            "left": null,
            "margin": null,
            "max_height": null,
            "max_width": null,
            "min_height": null,
            "min_width": null,
            "object_fit": null,
            "object_position": null,
            "order": null,
            "overflow": null,
            "overflow_x": null,
            "overflow_y": null,
            "padding": null,
            "right": null,
            "top": null,
            "visibility": null,
            "width": null
          }
        },
        "2c294f82fc2c4c4696e65254c1fb6be5": {
          "model_module": "@jupyter-widgets/controls",
          "model_name": "ProgressStyleModel",
          "model_module_version": "1.5.0",
          "state": {
            "_model_module": "@jupyter-widgets/controls",
            "_model_module_version": "1.5.0",
            "_model_name": "ProgressStyleModel",
            "_view_count": null,
            "_view_module": "@jupyter-widgets/base",
            "_view_module_version": "1.2.0",
            "_view_name": "StyleView",
            "bar_color": null,
            "description_width": ""
          }
        },
        "f989522c721f41629493cd8fdbdfd496": {
          "model_module": "@jupyter-widgets/base",
          "model_name": "LayoutModel",
          "model_module_version": "1.2.0",
          "state": {
            "_model_module": "@jupyter-widgets/base",
            "_model_module_version": "1.2.0",
            "_model_name": "LayoutModel",
            "_view_count": null,
            "_view_module": "@jupyter-widgets/base",
            "_view_module_version": "1.2.0",
            "_view_name": "LayoutView",
            "align_content": null,
            "align_items": null,
            "align_self": null,
            "border": null,
            "bottom": null,
            "display": null,
            "flex": null,
            "flex_flow": null,
            "grid_area": null,
            "grid_auto_columns": null,
            "grid_auto_flow": null,
            "grid_auto_rows": null,
            "grid_column": null,
            "grid_gap": null,
            "grid_row": null,
            "grid_template_areas": null,
            "grid_template_columns": null,
            "grid_template_rows": null,
            "height": null,
            "justify_content": null,
            "justify_items": null,
            "left": null,
            "margin": null,
            "max_height": null,
            "max_width": null,
            "min_height": null,
            "min_width": null,
            "object_fit": null,
            "object_position": null,
            "order": null,
            "overflow": null,
            "overflow_x": null,
            "overflow_y": null,
            "padding": null,
            "right": null,
            "top": null,
            "visibility": null,
            "width": null
          }
        },
        "c822bce57959455ba74e09c845daa1e7": {
          "model_module": "@jupyter-widgets/controls",
          "model_name": "DescriptionStyleModel",
          "model_module_version": "1.5.0",
          "state": {
            "_model_module": "@jupyter-widgets/controls",
            "_model_module_version": "1.5.0",
            "_model_name": "DescriptionStyleModel",
            "_view_count": null,
            "_view_module": "@jupyter-widgets/base",
            "_view_module_version": "1.2.0",
            "_view_name": "StyleView",
            "description_width": ""
          }
        }
      }
    }
  },
  "nbformat": 4,
  "nbformat_minor": 0
}
