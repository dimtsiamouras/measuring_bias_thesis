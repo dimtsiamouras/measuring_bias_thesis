{
  "nbformat": 4,
  "nbformat_minor": 0,
  "metadata": {
    "colab": {
      "provenance": [],
      "collapsed_sections": [
        "FxujdzMNMbe-",
        "PEd1lGjMMwqH"
      ]
    },
    "kernelspec": {
      "name": "python3",
      "display_name": "Python 3"
    },
    "language_info": {
      "name": "python"
    }
  },
  "cells": [
    {
      "cell_type": "code",
      "execution_count": null,
      "metadata": {
        "colab": {
          "base_uri": "https://localhost:8080/"
        },
        "id": "cYeYEO2v0aOY",
        "outputId": "d440eff4-6ef2-4548-e870-6b4862474d20"
      },
      "outputs": [
        {
          "output_type": "stream",
          "name": "stdout",
          "text": [
            "Mounted at /content/drive\n"
          ]
        }
      ],
      "source": [
        "from google.colab import drive\n",
        "drive.mount('/content/drive' , force_remount = True)"
      ]
    },
    {
      "cell_type": "code",
      "source": [
        "import os\n",
        "import numpy as np\n",
        "import pandas as pd\n",
        "import pickle\n",
        "import tensorflow as tf\n",
        "from tensorflow.keras.preprocessing.text import Tokenizer\n",
        "from tensorflow.keras.preprocessing.sequence import pad_sequences"
      ],
      "metadata": {
        "id": "kIDl_VlOMYPW"
      },
      "execution_count": null,
      "outputs": []
    },
    {
      "cell_type": "markdown",
      "source": [
        "### PAMAP2"
      ],
      "metadata": {
        "id": "FxujdzMNMbe-"
      }
    },
    {
      "cell_type": "code",
      "source": [
        "cd \"/content/drive/MyDrive/PAMAP2_Dataset\""
      ],
      "metadata": {
        "id": "tvNqyyUNMZBV"
      },
      "execution_count": null,
      "outputs": []
    },
    {
      "cell_type": "code",
      "source": [
        "def generate_three_IMU(name):\n",
        "    x = name +'_x'\n",
        "    y = name +'_y'\n",
        "    z = name +'_z'\n",
        "    return [x,y,z]\n",
        "\n",
        "def generate_four_IMU(name):\n",
        "    x = name +'_x'\n",
        "    y = name +'_y'\n",
        "    z = name +'_z'\n",
        "    w = name +'_w'\n",
        "    return [x,y,z,w]\n",
        "\n",
        "def generate_cols_IMU(name):\n",
        "    temp = name+'_temperature'\n",
        "    output = [temp]\n",
        "    acceleration16 = name+'_3D_acceleration_16'\n",
        "    acceleration16 = generate_three_IMU(acceleration16)\n",
        "    output.extend(acceleration16)\n",
        "    acceleration6 = name+'_3D_acceleration_6'\n",
        "    acceleration6 = generate_three_IMU(acceleration6)\n",
        "    output.extend(acceleration6)\n",
        "    gyroscope = name+'_3D_gyroscope'\n",
        "    gyroscope = generate_three_IMU(gyroscope)\n",
        "    output.extend(gyroscope)\n",
        "    magnometer = name+'_3D_magnetometer'\n",
        "    magnometer = generate_three_IMU(magnometer)\n",
        "    output.extend(magnometer)\n",
        "    oreintation = name+'_4D_orientation'\n",
        "    oreintation = generate_four_IMU(oreintation)\n",
        "    output.extend(oreintation)\n",
        "    return output\n",
        "\n",
        "def load_IMU():\n",
        "    output = ['time_stamp','activity_id', 'heart_rate']\n",
        "    hand = 'hand'\n",
        "    hand = generate_cols_IMU(hand)\n",
        "    output.extend(hand)\n",
        "    chest = 'chest'\n",
        "    chest = generate_cols_IMU(chest)\n",
        "    output.extend(chest)\n",
        "    ankle = 'ankle'\n",
        "    ankle = generate_cols_IMU(ankle)\n",
        "    output.extend(ankle)\n",
        "    return output\n",
        "\n",
        "def load_subjects(root='./Protocol/subject'):\n",
        "    output = pd.DataFrame()\n",
        "    cols = load_IMU()\n",
        "\n",
        "    for i in range(101,110):\n",
        "        path = root + str(i) +'.dat'\n",
        "        subject = pd.read_table(path, header=None, sep='\\s+')\n",
        "        subject.columns = cols\n",
        "        subject['id'] = i\n",
        "        output = pd.concat([output, subject], ignore_index=True)\n",
        "    output.reset_index(drop=True, inplace=True)\n",
        "    return output\n",
        "\n",
        "data = load_subjects()"
      ],
      "metadata": {
        "id": "DADnrM2BMY_F"
      },
      "execution_count": null,
      "outputs": []
    },
    {
      "cell_type": "code",
      "source": [
        "data = data.drop(['hand_4D_orientation_x', 'hand_4D_orientation_y',\n",
        "                  'hand_4D_orientation_z', 'hand_4D_orientation_w',\n",
        "                'chest_4D_orientation_x', 'chest_4D_orientation_y',\n",
        "                  'chest_4D_orientation_z', 'chest_4D_orientation_w',\n",
        "                'ankle_4D_orientation_x', 'ankle_4D_orientation_y',\n",
        "                  'ankle_4D_orientation_z', 'ankle_4D_orientation_w'],\n",
        "        axis = 1)\n",
        "\n",
        "def fix_data(data):\n",
        "    data = data.drop(data[data['activity_id']==0].index)\n",
        "    data = data.interpolate()\n",
        "    for colName in data.columns:\n",
        "        data[colName] = data[colName].fillna(data[colName].mean())\n",
        "    activity_mean = data.groupby(['activity_id']).mean().reset_index()\n",
        "    return data\n",
        "\n",
        "\n",
        "data = fix_data(data)\n",
        "print('Df shape', data.shape)\n",
        "print('No of subjects', len(data.groupby(['id']).mean().reset_index()))\n",
        "print('No of total activities',len(data.groupby(['activity_id']).mean().reset_index()))"
      ],
      "metadata": {
        "id": "7u0Z4AygMY71"
      },
      "execution_count": null,
      "outputs": []
    },
    {
      "cell_type": "code",
      "source": [
        "data.to_pickle('pamap2_for_lstm.pkl')"
      ],
      "metadata": {
        "id": "mo0cLHrnMY4d"
      },
      "execution_count": null,
      "outputs": []
    },
    {
      "cell_type": "markdown",
      "source": [
        "### MHEALTH"
      ],
      "metadata": {
        "id": "PEd1lGjMMwqH"
      }
    },
    {
      "cell_type": "code",
      "source": [
        "cd \"/content/drive/MyDrive/MHEALTHDATASET/\""
      ],
      "metadata": {
        "colab": {
          "base_uri": "https://localhost:8080/"
        },
        "id": "VHiYFRsdMwiS",
        "outputId": "634c07ec-4348-41fa-94f5-372aa8de3380"
      },
      "execution_count": null,
      "outputs": [
        {
          "output_type": "stream",
          "name": "stdout",
          "text": [
            "/content/drive/MyDrive/MHEALTHDATASET\n"
          ]
        }
      ]
    },
    {
      "cell_type": "code",
      "source": [
        "activity_mapping = {0: 'NO_ACTIVITY', 1: 'STANDING', 2: 'SITTING', 3: 'LAYING', \\\n",
        "                    4: 'WALKING', 5: 'WALKING_UPSTAIRS', 6: 'WAIST_BEND_FORWARD',\\\n",
        "                    7: 'FRONTAL_ARMS', 8: 'KNEE_BEND', 9: 'CYCLING', \\\n",
        "                    10: 'JOGGING', 11: 'RUNNING', 12: 'JUMP'}"
      ],
      "metadata": {
        "id": "3v6dyIhzMwgB"
      },
      "execution_count": null,
      "outputs": []
    },
    {
      "cell_type": "code",
      "source": [
        "df = pd.DataFrame()\n",
        "for i in range(1, 11):\n",
        "    df_s = pd.read_csv(f'./mHealth_subject{i}.log', header=None, sep='\\t')\n",
        "    df_s = df_s.loc[:, [0, 1, 2, 3, 4, 5, 6, 7, 8, 9, 10, 11, 12, 13, 14, 15, 16, 17, 18, 19, 20, 21, 22, 23]].rename(columns= {0: 'acc_ch_x',1: 'acc_ch_y',2: 'acc_ch_z',3: 'ecg_sig_1',4: 'ecg_sig_2',5: 'acc_la_x',6: 'acc_la_y',7: 'acc_la_z',8: 'gyr_la_x',9: 'gyr_la_y',10: 'gyr_la_z',11: 'mag_la_x',12: 'mag_la_y',13: 'mag_la_z',14: 'acc_rw_x',15: 'acc_rw_y',16: 'acc_rw_z',17: 'gyr_rw_x',18: 'gyr_rw_y',19: 'gyr_rw_z',20: 'mag_rw_x',21: 'mag_rw_y',22: 'mag_rw_z',23: 'activity'})\n",
        "    df_s['subject'] = f'subject{i}'\n",
        "    df = pd.concat([df, df_s])\n",
        "df_mhealth = df"
      ],
      "metadata": {
        "id": "Mq56iMPQMwc3"
      },
      "execution_count": null,
      "outputs": []
    },
    {
      "cell_type": "code",
      "source": [
        "df_before = df_mhealth.copy()\n",
        "\n",
        "null_act = df_mhealth[df_mhealth['activity'] == 0]\n",
        "other_act = df_mhealth[df_mhealth['activity'] != 0]\n",
        "num_samples_per_subject = 30720 // len(df_mhealth['subject'].unique())\n",
        "\n",
        "resampled_null_act = pd.concat([\n",
        "    null_act[null_act['subject'] == subject_id].sample(n=num_samples_per_subject, replace=True, random_state=1)\n",
        "    for subject_id in df_mhealth['subject'].unique()\n",
        "])\n",
        "\n",
        "df_mhealth = pd.concat([resampled_null_act, other_act])"
      ],
      "metadata": {
        "id": "DSTINqFGMwau"
      },
      "execution_count": null,
      "outputs": []
    },
    {
      "cell_type": "code",
      "source": [
        "df_mhealth = df_mhealth.fillna(df_mhealth.mean(numeric_only=True))"
      ],
      "metadata": {
        "id": "6YaIt0IDMY1F"
      },
      "execution_count": null,
      "outputs": []
    },
    {
      "cell_type": "code",
      "source": [
        "df_mhealth.to_pickle('mhealth_for_lstm.pkl')"
      ],
      "metadata": {
        "id": "jIad0QGUMYzN"
      },
      "execution_count": null,
      "outputs": []
    }
  ]
}